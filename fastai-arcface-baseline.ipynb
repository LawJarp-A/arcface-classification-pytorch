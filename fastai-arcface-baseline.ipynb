{
 "cells": [
  {
   "cell_type": "code",
   "execution_count": 107,
   "metadata": {
    "tags": []
   },
   "outputs": [],
   "source": [
    "import numpy as np\n",
    "import seaborn as sns\n",
    "from PIL import Image\n",
    "import pandas as pd\n",
    "import matplotlib.pyplot as plt\n",
    "from mpl_toolkits.axes_grid1 import ImageGrid\n",
    "\n",
    "import timm\n",
    "import math\n",
    "import wandb\n",
    "# from fastai.vision.all import *\n",
    "from fastai.callback.wandb import WandbCallback\n",
    "\n",
    "import torch, torchvision\n",
    "import torch.nn.functional as F\n",
    "import torch.nn as nn\n",
    "import torchvision.transforms as transforms\n",
    "from torch.utils.data import Dataset, DataLoader\n",
    "from torch.utils.data import DataLoader\n",
    "from torchvision.io import read_image\n",
    "\n",
    "from sklearn import preprocessing"
   ]
  },
  {
   "cell_type": "code",
   "execution_count": 108,
   "metadata": {},
   "outputs": [],
   "source": [
    "# Some pre-processing\n",
    "# data_path = \"/notebooks/Dataset/\"\n",
    "# df_ = pd.read_csv('/notebooks/Dataset/straight_cropped_chromosomes_dataset/data.csv')\n",
    "# df_['file_path'] = data_path+df_['file_path']\n",
    "df_ = pd.read_csv(\"/notebooks/Dataset/gband-data.csv\")\n",
    "# 763104351884.dkr.ecr.ap-south-1.amazonaws.com\n",
    "# efficientnet-b4-gband-pt"
   ]
  },
  {
   "cell_type": "code",
   "execution_count": 109,
   "metadata": {},
   "outputs": [
    {
     "data": {
      "text/html": [
       "<div>\n",
       "<style scoped>\n",
       "    .dataframe tbody tr th:only-of-type {\n",
       "        vertical-align: middle;\n",
       "    }\n",
       "\n",
       "    .dataframe tbody tr th {\n",
       "        vertical-align: top;\n",
       "    }\n",
       "\n",
       "    .dataframe thead th {\n",
       "        text-align: right;\n",
       "    }\n",
       "</style>\n",
       "<table border=\"1\" class=\"dataframe\">\n",
       "  <thead>\n",
       "    <tr style=\"text-align: right;\">\n",
       "      <th></th>\n",
       "      <th>Unnamed: 0</th>\n",
       "      <th>file_path</th>\n",
       "      <th>pair_num</th>\n",
       "      <th>case_num</th>\n",
       "    </tr>\n",
       "  </thead>\n",
       "  <tbody>\n",
       "    <tr>\n",
       "      <th>0</th>\n",
       "      <td>0</td>\n",
       "      <td>/notebooks/Dataset/KaryoTutor Images/karyotype_MDA_012/18_2.png</td>\n",
       "      <td>18</td>\n",
       "      <td>karyotype_MDA_012</td>\n",
       "    </tr>\n",
       "    <tr>\n",
       "      <th>1</th>\n",
       "      <td>1</td>\n",
       "      <td>/notebooks/Dataset/KaryoTutor Images/karyotype_MDA_012/21_3.png</td>\n",
       "      <td>21</td>\n",
       "      <td>karyotype_MDA_012</td>\n",
       "    </tr>\n",
       "    <tr>\n",
       "      <th>2</th>\n",
       "      <td>2</td>\n",
       "      <td>/notebooks/Dataset/KaryoTutor Images/karyotype_MDA_012/23_2.png</td>\n",
       "      <td>23</td>\n",
       "      <td>karyotype_MDA_012</td>\n",
       "    </tr>\n",
       "    <tr>\n",
       "      <th>3</th>\n",
       "      <td>3</td>\n",
       "      <td>/notebooks/Dataset/KaryoTutor Images/karyotype_MDA_012/4_1.png</td>\n",
       "      <td>4</td>\n",
       "      <td>karyotype_MDA_012</td>\n",
       "    </tr>\n",
       "    <tr>\n",
       "      <th>4</th>\n",
       "      <td>4</td>\n",
       "      <td>/notebooks/Dataset/KaryoTutor Images/karyotype_MDA_012/15_1.png</td>\n",
       "      <td>15</td>\n",
       "      <td>karyotype_MDA_012</td>\n",
       "    </tr>\n",
       "  </tbody>\n",
       "</table>\n",
       "</div>"
      ],
      "text/plain": [
       "   Unnamed: 0  \\\n",
       "0           0   \n",
       "1           1   \n",
       "2           2   \n",
       "3           3   \n",
       "4           4   \n",
       "\n",
       "                                                         file_path  pair_num  \\\n",
       "0  /notebooks/Dataset/KaryoTutor Images/karyotype_MDA_012/18_2.png        18   \n",
       "1  /notebooks/Dataset/KaryoTutor Images/karyotype_MDA_012/21_3.png        21   \n",
       "2  /notebooks/Dataset/KaryoTutor Images/karyotype_MDA_012/23_2.png        23   \n",
       "3   /notebooks/Dataset/KaryoTutor Images/karyotype_MDA_012/4_1.png         4   \n",
       "4  /notebooks/Dataset/KaryoTutor Images/karyotype_MDA_012/15_1.png        15   \n",
       "\n",
       "            case_num  \n",
       "0  karyotype_MDA_012  \n",
       "1  karyotype_MDA_012  \n",
       "2  karyotype_MDA_012  \n",
       "3  karyotype_MDA_012  \n",
       "4  karyotype_MDA_012  "
      ]
     },
     "execution_count": 109,
     "metadata": {},
     "output_type": "execute_result"
    }
   ],
   "source": [
    "df_.head()"
   ]
  },
  {
   "cell_type": "markdown",
   "metadata": {
    "tags": []
   },
   "source": [
    "## Get data into df"
   ]
  },
  {
   "cell_type": "code",
   "execution_count": 4,
   "metadata": {
    "tags": []
   },
   "outputs": [],
   "source": [
    "# df_ = pd.read_csv(\"/notebooks/Dataset/data.csv\")"
   ]
  },
  {
   "cell_type": "code",
   "execution_count": 5,
   "metadata": {},
   "outputs": [],
   "source": [
    "# df_.to_csv(\"/notebooks/Dataset/data.csv\")"
   ]
  },
  {
   "cell_type": "markdown",
   "metadata": {},
   "source": [
    "## Dataloader [Pytorch]"
   ]
  },
  {
   "cell_type": "code",
   "execution_count": 6,
   "metadata": {},
   "outputs": [],
   "source": [
    "from sklearn.model_selection import train_test_split\n",
    "train_df, valid_df = train_test_split(df_, test_size=0.2, random_state=42, stratify=df_['pair_num'])"
   ]
  },
  {
   "cell_type": "code",
   "execution_count": 101,
   "metadata": {
    "_kg_hide-input": true,
    "tags": []
   },
   "outputs": [],
   "source": [
    "class KaryotypeDataset(torch.utils.data.Dataset):\n",
    "    def __init__(self, df, is_valid=False, transform=None, target_transform=None):\n",
    "        self.df = df\n",
    "        self.transform = transform\n",
    "        self.target_transform = target_transform\n",
    "        self.basic_transforms = transforms.Compose([\n",
    "            transforms.ToTensor(),\n",
    "            transforms.ConvertImageDtype(torch.float),\n",
    "            transforms.Resize((224,224)),\n",
    "        ])\n",
    "\n",
    "    def __len__(self):\n",
    "        return len(self.df)\n",
    "\n",
    "    def __getitem__(self, idx):\n",
    "        img_path = self.df['file_path'].iloc[idx]\n",
    "        image = Image.open(img_path).convert(\"RGB\")\n",
    "        image = self.basic_transforms(image)\n",
    "        label = self.df['pair_num'].iloc[idx]-1 # make it 0 -22\n",
    "        label = torch.Tensor([label]).long().squeeze()\n",
    "        if self.transform:\n",
    "            image = self.transform(image)\n",
    "        if self.target_transform:\n",
    "            label = self.target_transform(label)\n",
    "        return TensorImage(image), label"
   ]
  },
  {
   "cell_type": "code",
   "execution_count": 102,
   "metadata": {
    "tags": []
   },
   "outputs": [],
   "source": [
    "transformations = transforms.Compose([\n",
    "                                      transforms.RandomHorizontalFlip(0.5),\n",
    "                                      transforms.RandomVerticalFlip(0.5),\n",
    "                                      transforms.RandomRotation(0.3),\n",
    "                                     ])"
   ]
  },
  {
   "cell_type": "code",
   "execution_count": 103,
   "metadata": {
    "tags": []
   },
   "outputs": [],
   "source": [
    "train_dataset = KaryotypeDataset(train_df, transform = transformations)\n",
    "valid_dataset = KaryotypeDataset(valid_df)"
   ]
  },
  {
   "cell_type": "code",
   "execution_count": 104,
   "metadata": {
    "tags": []
   },
   "outputs": [],
   "source": [
    "train_dataloader = torch.utils.data.DataLoader(train_dataset, batch_size = 32, shuffle=True, num_workers=8, pin_memory = True)\n",
    "valid_dataloader = torch.utils.data.DataLoader(valid_dataset, batch_size = 32, shuffle = False, num_workers=8, pin_memory = True)"
   ]
  },
  {
   "cell_type": "code",
   "execution_count": 105,
   "metadata": {
    "tags": []
   },
   "outputs": [
    {
     "ename": "NameError",
     "evalue": "name 'DataLoaders' is not defined",
     "output_type": "error",
     "traceback": [
      "\u001b[0;31m---------------------------------------------------------------------------\u001b[0m",
      "\u001b[0;31mNameError\u001b[0m                                 Traceback (most recent call last)",
      "Input \u001b[0;32mIn [105]\u001b[0m, in \u001b[0;36m<module>\u001b[0;34m\u001b[0m\n\u001b[0;32m----> 1\u001b[0m dls \u001b[38;5;241m=\u001b[39m \u001b[43mDataLoaders\u001b[49m(train_dataloader, valid_dataloader)\n",
      "\u001b[0;31mNameError\u001b[0m: name 'DataLoaders' is not defined"
     ]
    }
   ],
   "source": [
    "dls = DataLoaders(train_dataloader, valid_dataloader)"
   ]
  },
  {
   "cell_type": "code",
   "execution_count": 106,
   "metadata": {
    "tags": []
   },
   "outputs": [
    {
     "ename": "NameError",
     "evalue": "name 'dls' is not defined",
     "output_type": "error",
     "traceback": [
      "\u001b[0;31m---------------------------------------------------------------------------\u001b[0m",
      "\u001b[0;31mNameError\u001b[0m                                 Traceback (most recent call last)",
      "Input \u001b[0;32mIn [106]\u001b[0m, in \u001b[0;36m<module>\u001b[0;34m\u001b[0m\n\u001b[0;32m----> 1\u001b[0m \u001b[38;5;28;01mfor\u001b[39;00m x,y \u001b[38;5;129;01min\u001b[39;00m \u001b[43mdls\u001b[49m\u001b[38;5;241m.\u001b[39mtrain:\n\u001b[1;32m      2\u001b[0m     \u001b[38;5;28mprint\u001b[39m(x[\u001b[38;5;241m0\u001b[39m]\u001b[38;5;241m.\u001b[39mshape)\n\u001b[1;32m      3\u001b[0m     \u001b[38;5;28mprint\u001b[39m((x[\u001b[38;5;241m0\u001b[39m][\u001b[38;5;241m0\u001b[39m][\u001b[38;5;241m30\u001b[39m][\u001b[38;5;241m30\u001b[39m]))\n",
      "\u001b[0;31mNameError\u001b[0m: name 'dls' is not defined"
     ]
    }
   ],
   "source": [
    "for x,y in dls.train:\n",
    "    print(x[0].shape)\n",
    "    print((x[0][0][30][30]))\n",
    "    print(max((x[0][0]).flatten()))\n",
    "    plt.imshow(x[0].permute(1,2,0))\n",
    "    break"
   ]
  },
  {
   "cell_type": "markdown",
   "metadata": {},
   "source": [
    "## Dataloader [fastai]"
   ]
  },
  {
   "cell_type": "code",
   "execution_count": 43,
   "metadata": {
    "tags": []
   },
   "outputs": [],
   "source": [
    "# def get_df(df):\n",
    "#     return df\n",
    "# def get_files(df):\n",
    "#     return df['file_path']\n",
    "# def get_label(df):\n",
    "#     return df['pair_num']"
   ]
  },
  {
   "cell_type": "code",
   "execution_count": 44,
   "metadata": {
    "tags": []
   },
   "outputs": [],
   "source": [
    "# aug = [Rotate(0.3), Flip(0.3), Normalize()]"
   ]
  },
  {
   "cell_type": "code",
   "execution_count": 45,
   "metadata": {
    "tags": []
   },
   "outputs": [],
   "source": [
    "# def get_dls(df):\n",
    "#     karyotype = DataBlock(\n",
    "#         blocks=(ImageBlock, CategoryBlock),\n",
    "#         get_items=get_df,\n",
    "#         get_x=get_files,\n",
    "#         get_y=get_label,\n",
    "#         splitter=TrainTestSplitter(0.2, stratify=get_label(df), random_state=42),\n",
    "#         item_tfms=Resize(224, method='squish'),\n",
    "#         batch_tfms=aug,\n",
    "#     )\n",
    "#     dls = karyotype.dataloaders(df) \n",
    "#     return dls"
   ]
  },
  {
   "cell_type": "code",
   "execution_count": 46,
   "metadata": {
    "tags": []
   },
   "outputs": [],
   "source": [
    "# dls = get_dls(df_)"
   ]
  },
  {
   "cell_type": "code",
   "execution_count": 47,
   "metadata": {
    "tags": []
   },
   "outputs": [],
   "source": [
    "# temp = []\n",
    "# for batch in dls.valid:\n",
    "#     temp.extend(batch[1].cpu().numpy())"
   ]
  },
  {
   "cell_type": "code",
   "execution_count": 48,
   "metadata": {
    "tags": []
   },
   "outputs": [],
   "source": [
    "# sns.countplot(temp)"
   ]
  },
  {
   "cell_type": "code",
   "execution_count": 49,
   "metadata": {
    "tags": []
   },
   "outputs": [],
   "source": [
    "# means = [xb.mean(dim=(0, 2, 3)) for xb, yb in dls.train]\n",
    "# stds = [xb.std(dim=(0, 2, 3)) for xb, yb in dls.train]\n",
    "# mean, std = torch.stack(means).mean(dim=0), torch.stack(stds).mean(dim=0)\n",
    "# print(mean, std)"
   ]
  },
  {
   "cell_type": "code",
   "execution_count": 50,
   "metadata": {
    "tags": []
   },
   "outputs": [],
   "source": [
    "# dls.show_batch()"
   ]
  },
  {
   "cell_type": "code",
   "execution_count": 51,
   "metadata": {},
   "outputs": [
    {
     "name": "stdout",
     "output_type": "stream",
     "text": [
      "torch.Size([32, 3, 224, 224]) torch.Size([32])\n",
      "tensor([ 7, 16, 20,  2, 15, 14,  5,  9, 10, 11,  2, 14, 22,  6,  4,  6,  2, 18,\n",
      "        17,  0,  7, 14, 16,  5, 21,  1, 18, 12,  5,  6,  7, 18])\n"
     ]
    }
   ],
   "source": [
    "for i,o in dls.train:\n",
    "    print(i.shape,o.shape)\n",
    "    print(o)\n",
    "    # print(i)\n",
    "    break"
   ]
  },
  {
   "cell_type": "markdown",
   "metadata": {
    "tags": []
   },
   "source": [
    "## Define ArcMargin & GeM module"
   ]
  },
  {
   "cell_type": "code",
   "execution_count": 110,
   "metadata": {},
   "outputs": [],
   "source": [
    "class GeM(nn.Module):\n",
    "    def __init__(self, p=3, eps=1e-6):\n",
    "        super(GeM, self).__init__()\n",
    "        self.p = nn.Parameter(torch.ones(1)*p)\n",
    "        self.eps = eps\n",
    "\n",
    "    def forward(self, x):\n",
    "        return self.gem(x, p=self.p, eps=self.eps)\n",
    "        \n",
    "    def gem(self, x, p=3, eps=1e-6):\n",
    "        return F.avg_pool2d(x.clamp(min=eps).pow(p), (x.size(-2), x.size(-1))).pow(1./p)\n",
    "        \n",
    "    def __repr__(self):\n",
    "        return self.__class__.__name__ + \\\n",
    "                '(' + 'p=' + '{:.4f}'.format(self.p.data.tolist()[0]) + \\\n",
    "                ', ' + 'eps=' + str(self.eps) + ')'"
   ]
  },
  {
   "cell_type": "code",
   "execution_count": 111,
   "metadata": {},
   "outputs": [],
   "source": [
    "class ArcMarginProduct(nn.Module):\n",
    "    r\"\"\"Implement of large margin arc distance: :\n",
    "        Args:\n",
    "            in_features: size of each input sample\n",
    "            out_features: size of each output sample\n",
    "            s: norm of input feature\n",
    "            m: margin\n",
    "            cos(theta + m)\n",
    "        \"\"\"\n",
    "    def __init__(self, in_features, out_features, s=30.0, \n",
    "                 m=0.50, easy_margin=False, ls_eps=0.0):\n",
    "        super(ArcMarginProduct, self).__init__()\n",
    "        self.in_features = in_features\n",
    "        self.out_features = out_features\n",
    "        self.s = s\n",
    "        self.m = m\n",
    "        self.ls_eps = ls_eps  # label smoothing\n",
    "        self.weight = nn.Parameter(torch.FloatTensor(out_features, in_features))\n",
    "        nn.init.xavier_uniform_(self.weight)\n",
    "\n",
    "        self.easy_margin = easy_margin\n",
    "        self.cos_m = math.cos(m)\n",
    "        self.sin_m = math.sin(m)\n",
    "        self.th = math.cos(math.pi - m)\n",
    "        self.mm = math.sin(math.pi - m) * m\n",
    "\n",
    "    def forward(self, input, label):\n",
    "        # --------------------------- cos(theta) & phi(theta) ---------------------\n",
    "        cosine = F.linear(F.normalize(input), F.normalize(self.weight))\n",
    "        sine = torch.sqrt(1.0 - torch.pow(cosine, 2))\n",
    "        phi = cosine * self.cos_m - sine * self.sin_m\n",
    "        if self.easy_margin:\n",
    "            phi = torch.where(cosine > 0, phi, cosine)\n",
    "        else:\n",
    "            phi = torch.where(cosine > self.th, phi, cosine - self.mm)\n",
    "        # --------------------------- convert label to one-hot ---------------------\n",
    "        # one_hot = torch.zeros(cosine.size(), requires_grad=True, device='cuda')\n",
    "        one_hot = torch.zeros(cosine.size(),  device='cuda')\n",
    "        one_hot.scatter_(1, label.view(-1, 1).long(), 1)\n",
    "        if self.ls_eps > 0:\n",
    "            one_hot = (1 - self.ls_eps) * one_hot + self.ls_eps / self.out_features\n",
    "        # -------------torch.where(out_i = {x_i if condition_i else y_i) ------------\n",
    "        output = (one_hot * phi) + ((1.0 - one_hot) * cosine)\n",
    "        output *= self.s\n",
    "\n",
    "        return output"
   ]
  },
  {
   "cell_type": "markdown",
   "metadata": {},
   "source": [
    "## Model"
   ]
  },
  {
   "cell_type": "code",
   "execution_count": 112,
   "metadata": {
    "tags": []
   },
   "outputs": [],
   "source": [
    "def criterion(outputs, labels):\n",
    "    return nn.CrossEntropyLoss()(outputs, labels)\n",
    "\n",
    "class ArcFaceModel(nn.Module):\n",
    "    def __init__(self, model_name, pretrained=True, backbone=None):\n",
    "        super().__init__()\n",
    "        if backbone:\n",
    "            self.model = timm.create_model(model_name, pretrained=pretrained, num_classes = 0,in_chans=3)\n",
    "            self.model.load_state_dict(torch.load(backbone))\n",
    "        else:\n",
    "            self.model = timm.create_model(model_name, pretrained=pretrained, num_classes = 0,in_chans=3)\n",
    "        # in_features = self.model.classifier.in_features\n",
    "        self.model.classifier = nn.Identity()\n",
    "        self.model.global_pool = nn.Identity()\n",
    "        self.pooling = GeM()\n",
    "        self.embedding = nn.Sequential(\n",
    "            nn.LazyLinear(1024),\n",
    "            nn.BatchNorm1d(1024),\n",
    "            nn.ReLU(),\n",
    "            nn.Dropout(p=0.3),\n",
    "            nn.Linear(1024,512),\n",
    "        )\n",
    "        self.fc = ArcMarginProduct(512, \n",
    "                                   23,\n",
    "                                   s=2, \n",
    "                                   m=1, \n",
    "                                   easy_margin=False, \n",
    "                                   ls_eps=0.0)\n",
    "\n",
    "    def forward(self, images, labels):\n",
    "        features = self.model(images)\n",
    "        # pooled_features = self.model(images).flatten(1)\n",
    "        pooled_features = self.pooling(features).flatten(1)\n",
    "        embedding = self.embedding(pooled_features)\n",
    "        output = self.fc(embedding, labels)\n",
    "        return output\n",
    "    \n",
    "    def extract(self, images):\n",
    "        features = self.model(images)\n",
    "        # pooled_features = self.model(images).flatten(1)\n",
    "        pooled_features = self.pooling(features).flatten(1)\n",
    "        embedding = self.embedding(pooled_features)\n",
    "        return embedding"
   ]
  },
  {
   "cell_type": "code",
   "execution_count": 113,
   "metadata": {},
   "outputs": [
    {
     "name": "stderr",
     "output_type": "stream",
     "text": [
      "/opt/conda/lib/python3.8/site-packages/torch/nn/modules/lazy.py:178: UserWarning: Lazy modules are a new feature under heavy development so changes to the API or functionality can happen at any moment.\n",
      "  warnings.warn('Lazy modules are a new feature under heavy development '\n"
     ]
    }
   ],
   "source": [
    "model = ArcFaceModel('efficientnet_b4', backbone=\"/notebooks/Arcface Model/efb4_backbone.pth\")"
   ]
  },
  {
   "cell_type": "code",
   "execution_count": 114,
   "metadata": {
    "tags": []
   },
   "outputs": [
    {
     "data": {
      "text/plain": [
       "tensor([[ 0.0300,  0.2386, -0.9903,  ...,  0.1638,  0.8432,  0.2233],\n",
       "        [-0.6791,  0.1563, -0.2458,  ...,  0.7081,  0.3223,  0.0839]],\n",
       "       grad_fn=<AddmmBackward0>)"
      ]
     },
     "execution_count": 114,
     "metadata": {},
     "output_type": "execute_result"
    }
   ],
   "source": [
    "model.extract(torch.rand((2,3,224,224)))"
   ]
  },
  {
   "cell_type": "markdown",
   "metadata": {},
   "source": [
    "## Set up Wandb"
   ]
  },
  {
   "cell_type": "code",
   "execution_count": 64,
   "metadata": {
    "tags": []
   },
   "outputs": [],
   "source": [
    "# import wandb\n",
    "# wandb.login()"
   ]
  },
  {
   "cell_type": "code",
   "execution_count": 65,
   "metadata": {},
   "outputs": [],
   "source": [
    "# CONFIG = {\n",
    "#     'embedding_size' : 512,\n",
    "#     'batch_size' : 32,\n",
    "#     'base' : 'efficientnet_b4',\n",
    "#     'image_size' : 224,\n",
    "#     'loss_func' : 'ArcFace',\n",
    "#     'dataset':'g_band',\n",
    "#     'version': 1,\n",
    "# }"
   ]
  },
  {
   "cell_type": "code",
   "execution_count": 66,
   "metadata": {},
   "outputs": [],
   "source": [
    "# import time\n",
    "# run_name = CONFIG['base'] + \"-\" + str(int(time.time()))"
   ]
  },
  {
   "cell_type": "code",
   "execution_count": 67,
   "metadata": {
    "tags": []
   },
   "outputs": [],
   "source": [
    "# # Initialize W&B run\n",
    "# run = wandb.init(project='hsp-karyotype', \n",
    "#                  group='ArcFace Baseline',\n",
    "#                  job_type='train',\n",
    "#                  name = run_name, \n",
    "#                  config=CONFIG,\n",
    "#                 )"
   ]
  },
  {
   "cell_type": "markdown",
   "metadata": {},
   "source": [
    "## Learner [fastai]"
   ]
  },
  {
   "cell_type": "code",
   "execution_count": 68,
   "metadata": {},
   "outputs": [],
   "source": [
    "class AmpCallback(Callback):\n",
    "    def before_batch(self):\n",
    "        self.learn.xb = (self.x, self.y)"
   ]
  },
  {
   "cell_type": "code",
   "execution_count": 69,
   "metadata": {
    "tags": []
   },
   "outputs": [],
   "source": [
    "learn = Learner(dls, \n",
    "                model, \n",
    "                metrics=accuracy,\n",
    "                loss_func=CrossEntropyLossFlat(),\n",
    "                cbs=[\n",
    "                    AmpCallback,\n",
    "                    SaveModelCallback(monitor='valid_loss', min_delta=0.01, fname='arcface_baseline_v9',),\n",
    "                    # WandbCallback(log_model=True, seed=42),\n",
    "                ]\n",
    "               )"
   ]
  },
  {
   "cell_type": "code",
   "execution_count": 70,
   "metadata": {},
   "outputs": [],
   "source": [
    "# torch.cuda.empty_cache()"
   ]
  },
  {
   "cell_type": "markdown",
   "metadata": {},
   "source": [
    "## Model Training"
   ]
  },
  {
   "cell_type": "code",
   "execution_count": 71,
   "metadata": {
    "tags": []
   },
   "outputs": [
    {
     "data": {
      "text/html": [
       "\n",
       "<style>\n",
       "    /* Turns off some styling */\n",
       "    progress {\n",
       "        /* gets rid of default border in Firefox and Opera. */\n",
       "        border: none;\n",
       "        /* Needs to be in here for Safari polyfill so background images work as expected. */\n",
       "        background-size: auto;\n",
       "    }\n",
       "    .progress-bar-interrupted, .progress-bar-interrupted::-webkit-progress-bar {\n",
       "        background: #F44336;\n",
       "    }\n",
       "</style>\n"
      ],
      "text/plain": [
       "<IPython.core.display.HTML object>"
      ]
     },
     "metadata": {},
     "output_type": "display_data"
    },
    {
     "data": {
      "text/html": [],
      "text/plain": [
       "<IPython.core.display.HTML object>"
      ]
     },
     "metadata": {},
     "output_type": "display_data"
    },
    {
     "data": {
      "text/plain": [
       "SuggestedLRs(valley=0.0003311311302240938)"
      ]
     },
     "execution_count": 71,
     "metadata": {},
     "output_type": "execute_result"
    },
    {
     "data": {
      "image/png": "[encoded data removed]",
      "text/plain": [
       "<Figure size 432x288 with 1 Axes>"
      ]
     },
     "metadata": {
      "needs_background": "light"
     },
     "output_type": "display_data"
    }
   ],
   "source": [
    "learn.lr_find()"
   ]
  },
  {
   "cell_type": "code",
   "execution_count": 72,
   "metadata": {
    "tags": []
   },
   "outputs": [],
   "source": [
    "epochs = 150\n",
    "bl = 0.00033"
   ]
  },
  {
   "cell_type": "code",
   "execution_count": null,
   "metadata": {
    "collapsed": true,
    "jupyter": {
     "outputs_hidden": true
    },
    "tags": []
   },
   "outputs": [
    {
     "data": {
      "text/html": [
       "\n",
       "<style>\n",
       "    /* Turns off some styling */\n",
       "    progress {\n",
       "        /* gets rid of default border in Firefox and Opera. */\n",
       "        border: none;\n",
       "        /* Needs to be in here for Safari polyfill so background images work as expected. */\n",
       "        background-size: auto;\n",
       "    }\n",
       "    .progress-bar-interrupted, .progress-bar-interrupted::-webkit-progress-bar {\n",
       "        background: #F44336;\n",
       "    }\n",
       "</style>\n"
      ],
      "text/plain": [
       "<IPython.core.display.HTML object>"
      ]
     },
     "metadata": {},
     "output_type": "display_data"
    },
    {
     "data": {
      "text/html": [
       "\n",
       "    <div>\n",
       "      <progress value='113' class='' max='150' style='width:300px; height:20px; vertical-align: middle;'></progress>\n",
       "      75.33% [113/150 37:06<12:09]\n",
       "    </div>\n",
       "    \n",
       "<table border=\"1\" class=\"dataframe\">\n",
       "  <thead>\n",
       "    <tr style=\"text-align: left;\">\n",
       "      <th>epoch</th>\n",
       "      <th>train_loss</th>\n",
       "      <th>valid_loss</th>\n",
       "      <th>accuracy</th>\n",
       "      <th>time</th>\n",
       "    </tr>\n",
       "  </thead>\n",
       "  <tbody>\n",
       "    <tr>\n",
       "      <td>0</td>\n",
       "      <td>4.604438</td>\n",
       "      <td>4.410965</td>\n",
       "      <td>0.000000</td>\n",
       "      <td>00:18</td>\n",
       "    </tr>\n",
       "    <tr>\n",
       "      <td>1</td>\n",
       "      <td>4.395784</td>\n",
       "      <td>4.100037</td>\n",
       "      <td>0.000000</td>\n",
       "      <td>00:19</td>\n",
       "    </tr>\n",
       "    <tr>\n",
       "      <td>2</td>\n",
       "      <td>4.199598</td>\n",
       "      <td>3.814387</td>\n",
       "      <td>0.000000</td>\n",
       "      <td>00:19</td>\n",
       "    </tr>\n",
       "    <tr>\n",
       "      <td>3</td>\n",
       "      <td>4.019718</td>\n",
       "      <td>3.591601</td>\n",
       "      <td>0.000000</td>\n",
       "      <td>00:19</td>\n",
       "    </tr>\n",
       "    <tr>\n",
       "      <td>4</td>\n",
       "      <td>3.874921</td>\n",
       "      <td>3.425112</td>\n",
       "      <td>0.002155</td>\n",
       "      <td>00:19</td>\n",
       "    </tr>\n",
       "    <tr>\n",
       "      <td>5</td>\n",
       "      <td>3.747024</td>\n",
       "      <td>3.283719</td>\n",
       "      <td>0.021552</td>\n",
       "      <td>00:19</td>\n",
       "    </tr>\n",
       "    <tr>\n",
       "      <td>6</td>\n",
       "      <td>3.638765</td>\n",
       "      <td>3.163467</td>\n",
       "      <td>0.088362</td>\n",
       "      <td>00:19</td>\n",
       "    </tr>\n",
       "    <tr>\n",
       "      <td>7</td>\n",
       "      <td>3.521532</td>\n",
       "      <td>3.062663</td>\n",
       "      <td>0.230603</td>\n",
       "      <td>00:19</td>\n",
       "    </tr>\n",
       "    <tr>\n",
       "      <td>8</td>\n",
       "      <td>3.410235</td>\n",
       "      <td>2.956716</td>\n",
       "      <td>0.357759</td>\n",
       "      <td>00:19</td>\n",
       "    </tr>\n",
       "    <tr>\n",
       "      <td>9</td>\n",
       "      <td>3.320829</td>\n",
       "      <td>2.885185</td>\n",
       "      <td>0.441810</td>\n",
       "      <td>00:19</td>\n",
       "    </tr>\n",
       "    <tr>\n",
       "      <td>10</td>\n",
       "      <td>3.228739</td>\n",
       "      <td>2.819556</td>\n",
       "      <td>0.521552</td>\n",
       "      <td>00:19</td>\n",
       "    </tr>\n",
       "    <tr>\n",
       "      <td>11</td>\n",
       "      <td>3.152861</td>\n",
       "      <td>2.767551</td>\n",
       "      <td>0.573276</td>\n",
       "      <td>00:19</td>\n",
       "    </tr>\n",
       "    <tr>\n",
       "      <td>12</td>\n",
       "      <td>3.089866</td>\n",
       "      <td>2.715179</td>\n",
       "      <td>0.614224</td>\n",
       "      <td>00:19</td>\n",
       "    </tr>\n",
       "    <tr>\n",
       "      <td>13</td>\n",
       "      <td>3.030858</td>\n",
       "      <td>2.669612</td>\n",
       "      <td>0.640086</td>\n",
       "      <td>00:19</td>\n",
       "    </tr>\n",
       "    <tr>\n",
       "      <td>14</td>\n",
       "      <td>2.979821</td>\n",
       "      <td>2.653599</td>\n",
       "      <td>0.644397</td>\n",
       "      <td>00:19</td>\n",
       "    </tr>\n",
       "    <tr>\n",
       "      <td>15</td>\n",
       "      <td>2.930864</td>\n",
       "      <td>2.630302</td>\n",
       "      <td>0.674569</td>\n",
       "      <td>00:19</td>\n",
       "    </tr>\n",
       "    <tr>\n",
       "      <td>16</td>\n",
       "      <td>2.883464</td>\n",
       "      <td>2.613765</td>\n",
       "      <td>0.670259</td>\n",
       "      <td>00:19</td>\n",
       "    </tr>\n",
       "    <tr>\n",
       "      <td>17</td>\n",
       "      <td>2.847244</td>\n",
       "      <td>2.596261</td>\n",
       "      <td>0.670259</td>\n",
       "      <td>00:19</td>\n",
       "    </tr>\n",
       "    <tr>\n",
       "      <td>18</td>\n",
       "      <td>2.811804</td>\n",
       "      <td>2.608264</td>\n",
       "      <td>0.640086</td>\n",
       "      <td>00:19</td>\n",
       "    </tr>\n",
       "    <tr>\n",
       "      <td>19</td>\n",
       "      <td>2.794313</td>\n",
       "      <td>2.552948</td>\n",
       "      <td>0.670259</td>\n",
       "      <td>00:19</td>\n",
       "    </tr>\n",
       "    <tr>\n",
       "      <td>20</td>\n",
       "      <td>2.760191</td>\n",
       "      <td>2.535134</td>\n",
       "      <td>0.674569</td>\n",
       "      <td>00:19</td>\n",
       "    </tr>\n",
       "    <tr>\n",
       "      <td>21</td>\n",
       "      <td>2.739313</td>\n",
       "      <td>2.544772</td>\n",
       "      <td>0.661638</td>\n",
       "      <td>00:19</td>\n",
       "    </tr>\n",
       "    <tr>\n",
       "      <td>22</td>\n",
       "      <td>2.721853</td>\n",
       "      <td>2.527290</td>\n",
       "      <td>0.676724</td>\n",
       "      <td>00:19</td>\n",
       "    </tr>\n",
       "    <tr>\n",
       "      <td>23</td>\n",
       "      <td>2.701941</td>\n",
       "      <td>2.536774</td>\n",
       "      <td>0.665948</td>\n",
       "      <td>00:19</td>\n",
       "    </tr>\n",
       "    <tr>\n",
       "      <td>24</td>\n",
       "      <td>2.684117</td>\n",
       "      <td>2.507046</td>\n",
       "      <td>0.691810</td>\n",
       "      <td>00:19</td>\n",
       "    </tr>\n",
       "    <tr>\n",
       "      <td>25</td>\n",
       "      <td>2.657836</td>\n",
       "      <td>2.493076</td>\n",
       "      <td>0.687500</td>\n",
       "      <td>00:19</td>\n",
       "    </tr>\n",
       "    <tr>\n",
       "      <td>26</td>\n",
       "      <td>2.637390</td>\n",
       "      <td>2.510981</td>\n",
       "      <td>0.683190</td>\n",
       "      <td>00:19</td>\n",
       "    </tr>\n",
       "    <tr>\n",
       "      <td>27</td>\n",
       "      <td>2.626541</td>\n",
       "      <td>2.475060</td>\n",
       "      <td>0.700431</td>\n",
       "      <td>00:19</td>\n",
       "    </tr>\n",
       "    <tr>\n",
       "      <td>28</td>\n",
       "      <td>2.610993</td>\n",
       "      <td>2.466343</td>\n",
       "      <td>0.709052</td>\n",
       "      <td>00:19</td>\n",
       "    </tr>\n",
       "    <tr>\n",
       "      <td>29</td>\n",
       "      <td>2.604945</td>\n",
       "      <td>2.452934</td>\n",
       "      <td>0.713362</td>\n",
       "      <td>00:19</td>\n",
       "    </tr>\n",
       "    <tr>\n",
       "      <td>30</td>\n",
       "      <td>2.581101</td>\n",
       "      <td>2.436771</td>\n",
       "      <td>0.741379</td>\n",
       "      <td>00:19</td>\n",
       "    </tr>\n",
       "    <tr>\n",
       "      <td>31</td>\n",
       "      <td>2.561413</td>\n",
       "      <td>2.417403</td>\n",
       "      <td>0.737069</td>\n",
       "      <td>00:19</td>\n",
       "    </tr>\n",
       "    <tr>\n",
       "      <td>32</td>\n",
       "      <td>2.538816</td>\n",
       "      <td>2.409955</td>\n",
       "      <td>0.747845</td>\n",
       "      <td>00:19</td>\n",
       "    </tr>\n",
       "    <tr>\n",
       "      <td>33</td>\n",
       "      <td>2.531598</td>\n",
       "      <td>2.434466</td>\n",
       "      <td>0.737069</td>\n",
       "      <td>00:19</td>\n",
       "    </tr>\n",
       "    <tr>\n",
       "      <td>34</td>\n",
       "      <td>2.527603</td>\n",
       "      <td>2.413980</td>\n",
       "      <td>0.752155</td>\n",
       "      <td>00:19</td>\n",
       "    </tr>\n",
       "    <tr>\n",
       "      <td>35</td>\n",
       "      <td>2.510722</td>\n",
       "      <td>2.402384</td>\n",
       "      <td>0.758621</td>\n",
       "      <td>00:19</td>\n",
       "    </tr>\n",
       "    <tr>\n",
       "      <td>36</td>\n",
       "      <td>2.510068</td>\n",
       "      <td>2.399429</td>\n",
       "      <td>0.743535</td>\n",
       "      <td>00:19</td>\n",
       "    </tr>\n",
       "    <tr>\n",
       "      <td>37</td>\n",
       "      <td>2.490548</td>\n",
       "      <td>2.390831</td>\n",
       "      <td>0.754310</td>\n",
       "      <td>00:19</td>\n",
       "    </tr>\n",
       "    <tr>\n",
       "      <td>38</td>\n",
       "      <td>2.475357</td>\n",
       "      <td>2.389853</td>\n",
       "      <td>0.762931</td>\n",
       "      <td>00:19</td>\n",
       "    </tr>\n",
       "    <tr>\n",
       "      <td>39</td>\n",
       "      <td>2.470841</td>\n",
       "      <td>2.383591</td>\n",
       "      <td>0.760776</td>\n",
       "      <td>00:19</td>\n",
       "    </tr>\n",
       "    <tr>\n",
       "      <td>40</td>\n",
       "      <td>2.455382</td>\n",
       "      <td>2.370419</td>\n",
       "      <td>0.784483</td>\n",
       "      <td>00:19</td>\n",
       "    </tr>\n",
       "    <tr>\n",
       "      <td>41</td>\n",
       "      <td>2.440879</td>\n",
       "      <td>2.360177</td>\n",
       "      <td>0.790948</td>\n",
       "      <td>00:19</td>\n",
       "    </tr>\n",
       "    <tr>\n",
       "      <td>42</td>\n",
       "      <td>2.431725</td>\n",
       "      <td>2.369375</td>\n",
       "      <td>0.795259</td>\n",
       "      <td>00:19</td>\n",
       "    </tr>\n",
       "    <tr>\n",
       "      <td>43</td>\n",
       "      <td>2.429065</td>\n",
       "      <td>2.352148</td>\n",
       "      <td>0.801724</td>\n",
       "      <td>00:19</td>\n",
       "    </tr>\n",
       "    <tr>\n",
       "      <td>44</td>\n",
       "      <td>2.433627</td>\n",
       "      <td>2.395769</td>\n",
       "      <td>0.775862</td>\n",
       "      <td>00:19</td>\n",
       "    </tr>\n",
       "    <tr>\n",
       "      <td>45</td>\n",
       "      <td>2.428793</td>\n",
       "      <td>2.351780</td>\n",
       "      <td>0.797414</td>\n",
       "      <td>00:19</td>\n",
       "    </tr>\n",
       "    <tr>\n",
       "      <td>46</td>\n",
       "      <td>2.421563</td>\n",
       "      <td>2.335075</td>\n",
       "      <td>0.814655</td>\n",
       "      <td>00:19</td>\n",
       "    </tr>\n",
       "    <tr>\n",
       "      <td>47</td>\n",
       "      <td>2.409061</td>\n",
       "      <td>2.354015</td>\n",
       "      <td>0.803879</td>\n",
       "      <td>00:19</td>\n",
       "    </tr>\n",
       "    <tr>\n",
       "      <td>48</td>\n",
       "      <td>2.402050</td>\n",
       "      <td>2.327277</td>\n",
       "      <td>0.818965</td>\n",
       "      <td>00:19</td>\n",
       "    </tr>\n",
       "    <tr>\n",
       "      <td>49</td>\n",
       "      <td>2.390726</td>\n",
       "      <td>2.328881</td>\n",
       "      <td>0.814655</td>\n",
       "      <td>00:19</td>\n",
       "    </tr>\n",
       "    <tr>\n",
       "      <td>50</td>\n",
       "      <td>2.393782</td>\n",
       "      <td>2.337431</td>\n",
       "      <td>0.816810</td>\n",
       "      <td>00:19</td>\n",
       "    </tr>\n",
       "    <tr>\n",
       "      <td>51</td>\n",
       "      <td>2.390740</td>\n",
       "      <td>2.337851</td>\n",
       "      <td>0.808190</td>\n",
       "      <td>00:19</td>\n",
       "    </tr>\n",
       "    <tr>\n",
       "      <td>52</td>\n",
       "      <td>2.384338</td>\n",
       "      <td>2.319997</td>\n",
       "      <td>0.831897</td>\n",
       "      <td>00:19</td>\n",
       "    </tr>\n",
       "    <tr>\n",
       "      <td>53</td>\n",
       "      <td>2.377663</td>\n",
       "      <td>2.327620</td>\n",
       "      <td>0.831897</td>\n",
       "      <td>00:19</td>\n",
       "    </tr>\n",
       "    <tr>\n",
       "      <td>54</td>\n",
       "      <td>2.366604</td>\n",
       "      <td>2.324112</td>\n",
       "      <td>0.838362</td>\n",
       "      <td>00:19</td>\n",
       "    </tr>\n",
       "    <tr>\n",
       "      <td>55</td>\n",
       "      <td>2.364259</td>\n",
       "      <td>2.317565</td>\n",
       "      <td>0.831897</td>\n",
       "      <td>00:19</td>\n",
       "    </tr>\n",
       "    <tr>\n",
       "      <td>56</td>\n",
       "      <td>2.359583</td>\n",
       "      <td>2.330589</td>\n",
       "      <td>0.818965</td>\n",
       "      <td>00:19</td>\n",
       "    </tr>\n",
       "    <tr>\n",
       "      <td>57</td>\n",
       "      <td>2.347373</td>\n",
       "      <td>2.309777</td>\n",
       "      <td>0.836207</td>\n",
       "      <td>00:19</td>\n",
       "    </tr>\n",
       "    <tr>\n",
       "      <td>58</td>\n",
       "      <td>2.342593</td>\n",
       "      <td>2.306973</td>\n",
       "      <td>0.840517</td>\n",
       "      <td>00:19</td>\n",
       "    </tr>\n",
       "    <tr>\n",
       "      <td>59</td>\n",
       "      <td>2.346030</td>\n",
       "      <td>2.301219</td>\n",
       "      <td>0.831897</td>\n",
       "      <td>00:19</td>\n",
       "    </tr>\n",
       "    <tr>\n",
       "      <td>60</td>\n",
       "      <td>2.344833</td>\n",
       "      <td>2.304045</td>\n",
       "      <td>0.831897</td>\n",
       "      <td>00:19</td>\n",
       "    </tr>\n",
       "    <tr>\n",
       "      <td>61</td>\n",
       "      <td>2.344955</td>\n",
       "      <td>2.314384</td>\n",
       "      <td>0.831897</td>\n",
       "      <td>00:19</td>\n",
       "    </tr>\n",
       "    <tr>\n",
       "      <td>62</td>\n",
       "      <td>2.325389</td>\n",
       "      <td>2.309422</td>\n",
       "      <td>0.834052</td>\n",
       "      <td>00:19</td>\n",
       "    </tr>\n",
       "    <tr>\n",
       "      <td>63</td>\n",
       "      <td>2.322239</td>\n",
       "      <td>2.304147</td>\n",
       "      <td>0.842672</td>\n",
       "      <td>00:19</td>\n",
       "    </tr>\n",
       "    <tr>\n",
       "      <td>64</td>\n",
       "      <td>2.319257</td>\n",
       "      <td>2.310190</td>\n",
       "      <td>0.829741</td>\n",
       "      <td>00:19</td>\n",
       "    </tr>\n",
       "    <tr>\n",
       "      <td>65</td>\n",
       "      <td>2.314240</td>\n",
       "      <td>2.295871</td>\n",
       "      <td>0.838362</td>\n",
       "      <td>00:19</td>\n",
       "    </tr>\n",
       "    <tr>\n",
       "      <td>66</td>\n",
       "      <td>2.314597</td>\n",
       "      <td>2.293796</td>\n",
       "      <td>0.846983</td>\n",
       "      <td>00:19</td>\n",
       "    </tr>\n",
       "    <tr>\n",
       "      <td>67</td>\n",
       "      <td>2.307327</td>\n",
       "      <td>2.283005</td>\n",
       "      <td>0.842672</td>\n",
       "      <td>00:19</td>\n",
       "    </tr>\n",
       "    <tr>\n",
       "      <td>68</td>\n",
       "      <td>2.297818</td>\n",
       "      <td>2.299679</td>\n",
       "      <td>0.849138</td>\n",
       "      <td>00:19</td>\n",
       "    </tr>\n",
       "    <tr>\n",
       "      <td>69</td>\n",
       "      <td>2.310663</td>\n",
       "      <td>2.307060</td>\n",
       "      <td>0.829741</td>\n",
       "      <td>00:19</td>\n",
       "    </tr>\n",
       "    <tr>\n",
       "      <td>70</td>\n",
       "      <td>2.306602</td>\n",
       "      <td>2.292850</td>\n",
       "      <td>0.840517</td>\n",
       "      <td>00:19</td>\n",
       "    </tr>\n",
       "    <tr>\n",
       "      <td>71</td>\n",
       "      <td>2.294646</td>\n",
       "      <td>2.282030</td>\n",
       "      <td>0.849138</td>\n",
       "      <td>00:19</td>\n",
       "    </tr>\n",
       "    <tr>\n",
       "      <td>72</td>\n",
       "      <td>2.288938</td>\n",
       "      <td>2.277458</td>\n",
       "      <td>0.846983</td>\n",
       "      <td>00:19</td>\n",
       "    </tr>\n",
       "    <tr>\n",
       "      <td>73</td>\n",
       "      <td>2.296351</td>\n",
       "      <td>2.288626</td>\n",
       "      <td>0.836207</td>\n",
       "      <td>00:19</td>\n",
       "    </tr>\n",
       "    <tr>\n",
       "      <td>74</td>\n",
       "      <td>2.297027</td>\n",
       "      <td>2.299014</td>\n",
       "      <td>0.838362</td>\n",
       "      <td>00:19</td>\n",
       "    </tr>\n",
       "    <tr>\n",
       "      <td>75</td>\n",
       "      <td>2.283165</td>\n",
       "      <td>2.294513</td>\n",
       "      <td>0.838362</td>\n",
       "      <td>00:19</td>\n",
       "    </tr>\n",
       "    <tr>\n",
       "      <td>76</td>\n",
       "      <td>2.283622</td>\n",
       "      <td>2.291555</td>\n",
       "      <td>0.840517</td>\n",
       "      <td>00:19</td>\n",
       "    </tr>\n",
       "    <tr>\n",
       "      <td>77</td>\n",
       "      <td>2.274176</td>\n",
       "      <td>2.276119</td>\n",
       "      <td>0.838362</td>\n",
       "      <td>00:19</td>\n",
       "    </tr>\n",
       "    <tr>\n",
       "      <td>78</td>\n",
       "      <td>2.263058</td>\n",
       "      <td>2.280473</td>\n",
       "      <td>0.842672</td>\n",
       "      <td>00:19</td>\n",
       "    </tr>\n",
       "    <tr>\n",
       "      <td>79</td>\n",
       "      <td>2.276922</td>\n",
       "      <td>2.274079</td>\n",
       "      <td>0.846983</td>\n",
       "      <td>00:19</td>\n",
       "    </tr>\n",
       "    <tr>\n",
       "      <td>80</td>\n",
       "      <td>2.271280</td>\n",
       "      <td>2.274018</td>\n",
       "      <td>0.849138</td>\n",
       "      <td>00:19</td>\n",
       "    </tr>\n",
       "    <tr>\n",
       "      <td>81</td>\n",
       "      <td>2.257997</td>\n",
       "      <td>2.287825</td>\n",
       "      <td>0.840517</td>\n",
       "      <td>00:19</td>\n",
       "    </tr>\n",
       "    <tr>\n",
       "      <td>82</td>\n",
       "      <td>2.258787</td>\n",
       "      <td>2.288447</td>\n",
       "      <td>0.844828</td>\n",
       "      <td>00:19</td>\n",
       "    </tr>\n",
       "    <tr>\n",
       "      <td>83</td>\n",
       "      <td>2.255993</td>\n",
       "      <td>2.297798</td>\n",
       "      <td>0.838362</td>\n",
       "      <td>00:19</td>\n",
       "    </tr>\n",
       "    <tr>\n",
       "      <td>84</td>\n",
       "      <td>2.243380</td>\n",
       "      <td>2.297997</td>\n",
       "      <td>0.840517</td>\n",
       "      <td>00:19</td>\n",
       "    </tr>\n",
       "    <tr>\n",
       "      <td>85</td>\n",
       "      <td>2.233370</td>\n",
       "      <td>2.287058</td>\n",
       "      <td>0.849138</td>\n",
       "      <td>00:19</td>\n",
       "    </tr>\n",
       "    <tr>\n",
       "      <td>86</td>\n",
       "      <td>2.238263</td>\n",
       "      <td>2.259861</td>\n",
       "      <td>0.855603</td>\n",
       "      <td>00:19</td>\n",
       "    </tr>\n",
       "    <tr>\n",
       "      <td>87</td>\n",
       "      <td>2.238434</td>\n",
       "      <td>2.267492</td>\n",
       "      <td>0.849138</td>\n",
       "      <td>00:19</td>\n",
       "    </tr>\n",
       "    <tr>\n",
       "      <td>88</td>\n",
       "      <td>2.231521</td>\n",
       "      <td>2.295608</td>\n",
       "      <td>0.842672</td>\n",
       "      <td>00:19</td>\n",
       "    </tr>\n",
       "    <tr>\n",
       "      <td>89</td>\n",
       "      <td>2.222684</td>\n",
       "      <td>2.278466</td>\n",
       "      <td>0.853448</td>\n",
       "      <td>00:19</td>\n",
       "    </tr>\n",
       "    <tr>\n",
       "      <td>90</td>\n",
       "      <td>2.223018</td>\n",
       "      <td>2.271323</td>\n",
       "      <td>0.849138</td>\n",
       "      <td>00:19</td>\n",
       "    </tr>\n",
       "    <tr>\n",
       "      <td>91</td>\n",
       "      <td>2.211370</td>\n",
       "      <td>2.272182</td>\n",
       "      <td>0.853448</td>\n",
       "      <td>00:19</td>\n",
       "    </tr>\n",
       "    <tr>\n",
       "      <td>92</td>\n",
       "      <td>2.207024</td>\n",
       "      <td>2.275985</td>\n",
       "      <td>0.855603</td>\n",
       "      <td>00:19</td>\n",
       "    </tr>\n",
       "    <tr>\n",
       "      <td>93</td>\n",
       "      <td>2.206013</td>\n",
       "      <td>2.274032</td>\n",
       "      <td>0.842672</td>\n",
       "      <td>00:19</td>\n",
       "    </tr>\n",
       "    <tr>\n",
       "      <td>94</td>\n",
       "      <td>2.202481</td>\n",
       "      <td>2.274104</td>\n",
       "      <td>0.851293</td>\n",
       "      <td>00:19</td>\n",
       "    </tr>\n",
       "    <tr>\n",
       "      <td>95</td>\n",
       "      <td>2.202964</td>\n",
       "      <td>2.256043</td>\n",
       "      <td>0.857759</td>\n",
       "      <td>00:19</td>\n",
       "    </tr>\n",
       "    <tr>\n",
       "      <td>96</td>\n",
       "      <td>2.205261</td>\n",
       "      <td>2.269775</td>\n",
       "      <td>0.849138</td>\n",
       "      <td>00:19</td>\n",
       "    </tr>\n",
       "    <tr>\n",
       "      <td>97</td>\n",
       "      <td>2.203687</td>\n",
       "      <td>2.253582</td>\n",
       "      <td>0.859914</td>\n",
       "      <td>00:19</td>\n",
       "    </tr>\n",
       "    <tr>\n",
       "      <td>98</td>\n",
       "      <td>2.196888</td>\n",
       "      <td>2.253703</td>\n",
       "      <td>0.855603</td>\n",
       "      <td>00:19</td>\n",
       "    </tr>\n",
       "    <tr>\n",
       "      <td>99</td>\n",
       "      <td>2.193629</td>\n",
       "      <td>2.262194</td>\n",
       "      <td>0.853448</td>\n",
       "      <td>00:19</td>\n",
       "    </tr>\n",
       "    <tr>\n",
       "      <td>100</td>\n",
       "      <td>2.179566</td>\n",
       "      <td>2.268537</td>\n",
       "      <td>0.849138</td>\n",
       "      <td>00:19</td>\n",
       "    </tr>\n",
       "    <tr>\n",
       "      <td>101</td>\n",
       "      <td>2.168582</td>\n",
       "      <td>2.278400</td>\n",
       "      <td>0.846983</td>\n",
       "      <td>00:19</td>\n",
       "    </tr>\n",
       "    <tr>\n",
       "      <td>102</td>\n",
       "      <td>2.180362</td>\n",
       "      <td>2.292125</td>\n",
       "      <td>0.842672</td>\n",
       "      <td>00:19</td>\n",
       "    </tr>\n",
       "    <tr>\n",
       "      <td>103</td>\n",
       "      <td>2.177701</td>\n",
       "      <td>2.289607</td>\n",
       "      <td>0.846983</td>\n",
       "      <td>00:19</td>\n",
       "    </tr>\n",
       "    <tr>\n",
       "      <td>104</td>\n",
       "      <td>2.167864</td>\n",
       "      <td>2.276534</td>\n",
       "      <td>0.851293</td>\n",
       "      <td>00:19</td>\n",
       "    </tr>\n",
       "    <tr>\n",
       "      <td>105</td>\n",
       "      <td>2.162590</td>\n",
       "      <td>2.274149</td>\n",
       "      <td>0.844828</td>\n",
       "      <td>00:19</td>\n",
       "    </tr>\n",
       "    <tr>\n",
       "      <td>106</td>\n",
       "      <td>2.169988</td>\n",
       "      <td>2.279819</td>\n",
       "      <td>0.849138</td>\n",
       "      <td>00:19</td>\n",
       "    </tr>\n",
       "    <tr>\n",
       "      <td>107</td>\n",
       "      <td>2.162718</td>\n",
       "      <td>2.269046</td>\n",
       "      <td>0.846983</td>\n",
       "      <td>00:19</td>\n",
       "    </tr>\n",
       "    <tr>\n",
       "      <td>108</td>\n",
       "      <td>2.156106</td>\n",
       "      <td>2.268601</td>\n",
       "      <td>0.853448</td>\n",
       "      <td>00:19</td>\n",
       "    </tr>\n",
       "    <tr>\n",
       "      <td>109</td>\n",
       "      <td>2.152607</td>\n",
       "      <td>2.272854</td>\n",
       "      <td>0.849138</td>\n",
       "      <td>00:19</td>\n",
       "    </tr>\n",
       "    <tr>\n",
       "      <td>110</td>\n",
       "      <td>2.157143</td>\n",
       "      <td>2.267279</td>\n",
       "      <td>0.851293</td>\n",
       "      <td>00:19</td>\n",
       "    </tr>\n",
       "    <tr>\n",
       "      <td>111</td>\n",
       "      <td>2.149164</td>\n",
       "      <td>2.258308</td>\n",
       "      <td>0.849138</td>\n",
       "      <td>00:19</td>\n",
       "    </tr>\n",
       "    <tr>\n",
       "      <td>112</td>\n",
       "      <td>2.146202</td>\n",
       "      <td>2.261889</td>\n",
       "      <td>0.853448</td>\n",
       "      <td>00:19</td>\n",
       "    </tr>\n",
       "  </tbody>\n",
       "</table><p>\n",
       "\n",
       "    <div>\n",
       "      <progress value='45' class='' max='58' style='width:300px; height:20px; vertical-align: middle;'></progress>\n",
       "      77.59% [45/58 00:13<00:03 2.1521]\n",
       "    </div>\n",
       "    "
      ],
      "text/plain": [
       "<IPython.core.display.HTML object>"
      ]
     },
     "metadata": {},
     "output_type": "display_data"
    },
    {
     "name": "stdout",
     "output_type": "stream",
     "text": [
      "Better model found at epoch 0 with valid_loss value: 4.410965442657471.\n",
      "Better model found at epoch 1 with valid_loss value: 4.100037097930908.\n",
      "Better model found at epoch 2 with valid_loss value: 3.814387321472168.\n",
      "Better model found at epoch 3 with valid_loss value: 3.5916011333465576.\n",
      "Better model found at epoch 4 with valid_loss value: 3.42511248588562.\n",
      "Better model found at epoch 5 with valid_loss value: 3.2837188243865967.\n",
      "Better model found at epoch 6 with valid_loss value: 3.1634674072265625.\n",
      "Better model found at epoch 7 with valid_loss value: 3.0626630783081055.\n",
      "Better model found at epoch 8 with valid_loss value: 2.9567158222198486.\n",
      "Better model found at epoch 9 with valid_loss value: 2.8851845264434814.\n",
      "Better model found at epoch 10 with valid_loss value: 2.8195555210113525.\n",
      "Better model found at epoch 11 with valid_loss value: 2.7675509452819824.\n",
      "Better model found at epoch 12 with valid_loss value: 2.715178966522217.\n",
      "Better model found at epoch 13 with valid_loss value: 2.669612169265747.\n",
      "Better model found at epoch 14 with valid_loss value: 2.653599262237549.\n",
      "Better model found at epoch 15 with valid_loss value: 2.6303021907806396.\n",
      "Better model found at epoch 16 with valid_loss value: 2.613764762878418.\n",
      "Better model found at epoch 17 with valid_loss value: 2.5962607860565186.\n",
      "Better model found at epoch 19 with valid_loss value: 2.552947759628296.\n",
      "Better model found at epoch 20 with valid_loss value: 2.5351338386535645.\n",
      "Better model found at epoch 24 with valid_loss value: 2.5070464611053467.\n",
      "Better model found at epoch 25 with valid_loss value: 2.4930758476257324.\n",
      "Better model found at epoch 27 with valid_loss value: 2.475059986114502.\n",
      "Better model found at epoch 29 with valid_loss value: 2.4529337882995605.\n",
      "Better model found at epoch 30 with valid_loss value: 2.4367711544036865.\n",
      "Better model found at epoch 31 with valid_loss value: 2.41740345954895.\n",
      "Better model found at epoch 35 with valid_loss value: 2.4023842811584473.\n",
      "Better model found at epoch 37 with valid_loss value: 2.3908307552337646.\n",
      "Better model found at epoch 40 with valid_loss value: 2.3704192638397217.\n",
      "Better model found at epoch 41 with valid_loss value: 2.3601770401000977.\n",
      "Better model found at epoch 46 with valid_loss value: 2.3350749015808105.\n",
      "Better model found at epoch 52 with valid_loss value: 2.3199968338012695.\n",
      "Better model found at epoch 57 with valid_loss value: 2.309776782989502.\n",
      "Better model found at epoch 65 with valid_loss value: 2.295870542526245.\n",
      "Better model found at epoch 67 with valid_loss value: 2.283005475997925.\n",
      "Better model found at epoch 86 with valid_loss value: 2.2598612308502197.\n"
     ]
    }
   ],
   "source": [
    "learn.fit_one_cycle(epochs, bl)"
   ]
  },
  {
   "cell_type": "code",
   "execution_count": 106,
   "metadata": {
    "tags": []
   },
   "outputs": [],
   "source": [
    "# interp = ClassificationInterpretation.from_learner(learn)"
   ]
  },
  {
   "cell_type": "code",
   "execution_count": 107,
   "metadata": {
    "tags": []
   },
   "outputs": [],
   "source": [
    "# interp.plot_confusion_matrix()"
   ]
  },
  {
   "cell_type": "code",
   "execution_count": 108,
   "metadata": {
    "tags": []
   },
   "outputs": [],
   "source": [
    "# interp.most_confused()[:5]"
   ]
  },
  {
   "cell_type": "code",
   "execution_count": 109,
   "metadata": {},
   "outputs": [],
   "source": [
    "# res = learn.validate()"
   ]
  },
  {
   "cell_type": "code",
   "execution_count": 46,
   "metadata": {},
   "outputs": [],
   "source": [
    "# torch.save(model, \"arcface_ef_b4_150ep_v3\")"
   ]
  },
  {
   "cell_type": "code",
   "execution_count": 47,
   "metadata": {
    "tags": []
   },
   "outputs": [],
   "source": [
    "# wandb.finish()"
   ]
  },
  {
   "cell_type": "markdown",
   "metadata": {},
   "source": [
    "## Running inference on data"
   ]
  },
  {
   "cell_type": "code",
   "execution_count": 115,
   "metadata": {},
   "outputs": [],
   "source": [
    "model.load_state_dict(torch.load(\"/notebooks/Arcface Model/models/arcface_baseline_v9.pth\", map_location=torch.device('cuda')))\n",
    "model=model.to(torch.device('cuda'))"
   ]
  },
  {
   "cell_type": "code",
   "execution_count": 389,
   "metadata": {},
   "outputs": [],
   "source": [
    "from sklearn.model_selection import train_test_split\n",
    "train_df, valid_df = train_test_split(df_, test_size=0.2, random_state=84, stratify=df_['pair_num'])"
   ]
  },
  {
   "cell_type": "code",
   "execution_count": 390,
   "metadata": {},
   "outputs": [],
   "source": [
    "basic_transforms = transforms.Compose([\n",
    "    transforms.ToTensor(),\n",
    "    transforms.ConvertImageDtype(torch.float),\n",
    "    transforms.Resize((224,224)),\n",
    "    transforms.Normalize(0,1)\n",
    "])\n",
    "\n",
    "def get_image(path):\n",
    "    im = Image.open(path).convert('RGB')\n",
    "    im = basic_transforms(im)\n",
    "    return im.cuda()"
   ]
  },
  {
   "cell_type": "code",
   "execution_count": 391,
   "metadata": {},
   "outputs": [],
   "source": [
    "import tqdm\n",
    "@torch.inference_mode()\n",
    "def get_embeddings(model,df):\n",
    "    model.eval()\n",
    "    \n",
    "    LABELS = []\n",
    "    EMBEDS = []\n",
    "    IDS = []\n",
    "    \n",
    "    for i in tqdm.tqdm(range(len(df))):\n",
    "        im = get_image(df['file_path'].iloc[i])\n",
    "        im = im.unsqueeze(0)\n",
    "        label = df['pair_num'].iloc[i]\n",
    "        model.eval()\n",
    "        output = model.extract(im)\n",
    "        \n",
    "        LABELS.append(label)\n",
    "        EMBEDS.append(output.cpu().numpy())\n",
    "    \n",
    "    return EMBEDS, LABELS"
   ]
  },
  {
   "cell_type": "code",
   "execution_count": 393,
   "metadata": {},
   "outputs": [
    {
     "name": "stderr",
     "output_type": "stream",
     "text": [
      "100%|██████████| 2317/2317 [01:07<00:00, 34.12it/s]\n"
     ]
    }
   ],
   "source": [
    "emb, lab = get_embeddings(model, df_ )\n",
    "emb_ = np.vstack(emb)\n",
    "# ids = np.arange(4231)\n",
    "# 2317"
   ]
  },
  {
   "cell_type": "code",
   "execution_count": 394,
   "metadata": {},
   "outputs": [],
   "source": [
    "ids = np.arange(2317)"
   ]
  },
  {
   "cell_type": "code",
   "execution_count": 395,
   "metadata": {},
   "outputs": [],
   "source": [
    "import faiss"
   ]
  },
  {
   "cell_type": "code",
   "execution_count": 396,
   "metadata": {},
   "outputs": [],
   "source": [
    "index = faiss.IndexFlatIP(512)\n",
    "index = faiss.IndexIDMap(index)\n",
    "faiss.normalize_L2(emb_)\n",
    "index.add_with_ids(emb_, ids)"
   ]
  },
  {
   "cell_type": "code",
   "execution_count": 397,
   "metadata": {},
   "outputs": [],
   "source": [
    "mp = {}\n",
    "for i in ids:\n",
    "    mp[i] = lab[i]"
   ]
  },
  {
   "cell_type": "code",
   "execution_count": 398,
   "metadata": {},
   "outputs": [],
   "source": [
    "# import pickle\n",
    "# pickle.dump(index, open('index.pkl', 'wb'))\n",
    "# pickle.dump(mp, open('map_index2pair.pkl', 'wb'))"
   ]
  },
  {
   "cell_type": "code",
   "execution_count": 399,
   "metadata": {},
   "outputs": [],
   "source": [
    "from scipy.special import softmax\n",
    "def get_pred(model, x, index):\n",
    "    \n",
    "    model.eval()\n",
    "    q = model.extract(x)\n",
    "    q = q.cpu().detach().numpy()\n",
    "    # print(q.shape, q.dtype)\n",
    "    faiss.normalize_L2(q)\n",
    "    s, s_id = index.search(q,7)\n",
    "    out = [0]*23\n",
    "    c = [mp[i] for i in s_id[0]]\n",
    "    l = 2300\n",
    "    for i_, i in enumerate(c):\n",
    "        out[i-1] += 1\n",
    "        l-=1\n",
    "    # output = np.array(out)\n",
    "    # norm = np.linalg.norm(output)\n",
    "    # output = output/norm\n",
    "    # print(output)\n",
    "    # print(softmax(output))\n",
    "    # return l\n",
    "    return np.asarray(softmax(out))"
   ]
  },
  {
   "cell_type": "markdown",
   "metadata": {
    "tags": []
   },
   "source": [
    "### Get ef model for ensemble"
   ]
  },
  {
   "cell_type": "code",
   "execution_count": 400,
   "metadata": {},
   "outputs": [],
   "source": [
    "# class baseModel(nn.Module):\n",
    "#     def __init__(self, model_name, pretrained=True):\n",
    "#         super().__init__()\n",
    "#         self.model_ft = timm.create_model(model_name, pretrained=pretrained, num_classes=0,in_chans=3)\n",
    "#         self.classifier = nn.Sequential(\n",
    "#             nn.Flatten(),\n",
    "#             nn.LazyLinear(1024),\n",
    "#             nn.BatchNorm1d(1024),\n",
    "#             nn.ReLU(),\n",
    "#             nn.Dropout(p=0.3),\n",
    "#             nn.Linear(1024,512),\n",
    "#             nn.BatchNorm1d(512),\n",
    "#             nn.ReLU(),\n",
    "#             nn.Dropout(p=0.3),\n",
    "#             nn.Linear(512,256),\n",
    "#             nn.BatchNorm1d(256),\n",
    "#             nn.ReLU(),\n",
    "#             nn.Dropout(p=0.3),\n",
    "#             nn.Linear(256,23),\n",
    "#         )\n",
    "\n",
    "#     def forward(self, x):\n",
    "#         x_features = self.model_ft(x)\n",
    "#         return self.classifier(x_features)"
   ]
  },
  {
   "cell_type": "code",
   "execution_count": 401,
   "metadata": {},
   "outputs": [],
   "source": [
    "# model_ef = baseModel('efficientnet_b4', pretrained=False)\n",
    "# saved_model = \"/notebooks/Baseline Models/models/efficientnet_b4-1656650171.pth\"\n",
    "# model_ef.load_state_dict(torch.load(saved_model))\n",
    "# model_ef = model.cuda()"
   ]
  },
  {
   "cell_type": "code",
   "execution_count": 402,
   "metadata": {
    "tags": []
   },
   "outputs": [
    {
     "name": "stderr",
     "output_type": "stream",
     "text": [
      "100%|██████████| 464/464 [00:18<00:00, 24.69it/s]\n"
     ]
    }
   ],
   "source": [
    "import tqdm\n",
    "acc = 0\n",
    "conf_matrix = np.zeros((23,23))\n",
    "y_true = []\n",
    "y_pred = []\n",
    "ims_ = []\n",
    "for i in tqdm.tqdm(range (len(valid_df))):\n",
    "    path = valid_df['file_path'].values[i]\n",
    "    pn = valid_df['pair_num'].values[i]\n",
    "    im = get_image(path)\n",
    "    im = im.unsqueeze(0)\n",
    "    out = get_pred(model, im, index)\n",
    "    # print(out1, np.argmax(out1) +1)\n",
    "    # print(out2, np.argmax(out2) +1)\n",
    "    # print(out, np.argmax(out) +1)\n",
    "    # print(pn)\n",
    "    # print()\n",
    "    y = np.argmax(out) +1\n",
    "    # print(out)\n",
    "    # if(y != pn):\n",
    "    #     ims_.append((path, y, pn))\n",
    "    #     break\n",
    "    conf_matrix[pn-1][y-1]+=1\n",
    "    y_true.append(pn)\n",
    "    y_pred.append(y)\n",
    "    if (pn==y):\n",
    "        acc+=1\n",
    "    # print(pn,y)\n",
    "    # break\n",
    "    # break"
   ]
  },
  {
   "cell_type": "code",
   "execution_count": 403,
   "metadata": {},
   "outputs": [
    {
     "data": {
      "text/plain": [
       "0.9568965517241379"
      ]
     },
     "execution_count": 403,
     "metadata": {},
     "output_type": "execute_result"
    }
   ],
   "source": [
    "acc/len(valid_df)"
   ]
  },
  {
   "cell_type": "code",
   "execution_count": 404,
   "metadata": {},
   "outputs": [
    {
     "data": {
      "text/plain": [
       "<AxesSubplot:>"
      ]
     },
     "execution_count": 404,
     "metadata": {},
     "output_type": "execute_result"
    },
    {
     "data": {
      "image/png": "[encoded data removed]",
      "text/plain": [
       "<Figure size 432x288 with 2 Axes>"
      ]
     },
     "metadata": {
      "needs_background": "light"
     },
     "output_type": "display_data"
    }
   ],
   "source": [
    "sns.heatmap(conf_matrix, annot=True)"
   ]
  },
  {
   "cell_type": "code",
   "execution_count": 218,
   "metadata": {},
   "outputs": [],
   "source": [
    "t = df_.groupby(['pair_num']).count()"
   ]
  },
  {
   "cell_type": "code",
   "execution_count": 219,
   "metadata": {},
   "outputs": [
    {
     "data": {
      "text/html": [
       "<div>\n",
       "<style scoped>\n",
       "    .dataframe tbody tr th:only-of-type {\n",
       "        vertical-align: middle;\n",
       "    }\n",
       "\n",
       "    .dataframe tbody tr th {\n",
       "        vertical-align: top;\n",
       "    }\n",
       "\n",
       "    .dataframe thead th {\n",
       "        text-align: right;\n",
       "    }\n",
       "</style>\n",
       "<table border=\"1\" class=\"dataframe\">\n",
       "  <thead>\n",
       "    <tr style=\"text-align: right;\">\n",
       "      <th></th>\n",
       "      <th>Unnamed: 0</th>\n",
       "      <th>file_path</th>\n",
       "      <th>case_num</th>\n",
       "    </tr>\n",
       "    <tr>\n",
       "      <th>pair_num</th>\n",
       "      <th></th>\n",
       "      <th></th>\n",
       "      <th></th>\n",
       "    </tr>\n",
       "  </thead>\n",
       "  <tbody>\n",
       "    <tr>\n",
       "      <th>1</th>\n",
       "      <td>99</td>\n",
       "      <td>99</td>\n",
       "      <td>99</td>\n",
       "    </tr>\n",
       "    <tr>\n",
       "      <th>2</th>\n",
       "      <td>100</td>\n",
       "      <td>100</td>\n",
       "      <td>100</td>\n",
       "    </tr>\n",
       "    <tr>\n",
       "      <th>3</th>\n",
       "      <td>100</td>\n",
       "      <td>100</td>\n",
       "      <td>100</td>\n",
       "    </tr>\n",
       "    <tr>\n",
       "      <th>4</th>\n",
       "      <td>100</td>\n",
       "      <td>100</td>\n",
       "      <td>100</td>\n",
       "    </tr>\n",
       "    <tr>\n",
       "      <th>5</th>\n",
       "      <td>100</td>\n",
       "      <td>100</td>\n",
       "      <td>100</td>\n",
       "    </tr>\n",
       "    <tr>\n",
       "      <th>6</th>\n",
       "      <td>101</td>\n",
       "      <td>101</td>\n",
       "      <td>101</td>\n",
       "    </tr>\n",
       "    <tr>\n",
       "      <th>7</th>\n",
       "      <td>100</td>\n",
       "      <td>100</td>\n",
       "      <td>100</td>\n",
       "    </tr>\n",
       "    <tr>\n",
       "      <th>8</th>\n",
       "      <td>102</td>\n",
       "      <td>102</td>\n",
       "      <td>102</td>\n",
       "    </tr>\n",
       "    <tr>\n",
       "      <th>9</th>\n",
       "      <td>100</td>\n",
       "      <td>100</td>\n",
       "      <td>100</td>\n",
       "    </tr>\n",
       "    <tr>\n",
       "      <th>10</th>\n",
       "      <td>104</td>\n",
       "      <td>104</td>\n",
       "      <td>104</td>\n",
       "    </tr>\n",
       "    <tr>\n",
       "      <th>11</th>\n",
       "      <td>101</td>\n",
       "      <td>101</td>\n",
       "      <td>101</td>\n",
       "    </tr>\n",
       "    <tr>\n",
       "      <th>12</th>\n",
       "      <td>100</td>\n",
       "      <td>100</td>\n",
       "      <td>100</td>\n",
       "    </tr>\n",
       "    <tr>\n",
       "      <th>13</th>\n",
       "      <td>103</td>\n",
       "      <td>103</td>\n",
       "      <td>103</td>\n",
       "    </tr>\n",
       "    <tr>\n",
       "      <th>14</th>\n",
       "      <td>100</td>\n",
       "      <td>100</td>\n",
       "      <td>100</td>\n",
       "    </tr>\n",
       "    <tr>\n",
       "      <th>15</th>\n",
       "      <td>103</td>\n",
       "      <td>103</td>\n",
       "      <td>103</td>\n",
       "    </tr>\n",
       "    <tr>\n",
       "      <th>16</th>\n",
       "      <td>102</td>\n",
       "      <td>102</td>\n",
       "      <td>102</td>\n",
       "    </tr>\n",
       "    <tr>\n",
       "      <th>17</th>\n",
       "      <td>100</td>\n",
       "      <td>100</td>\n",
       "      <td>100</td>\n",
       "    </tr>\n",
       "    <tr>\n",
       "      <th>18</th>\n",
       "      <td>103</td>\n",
       "      <td>103</td>\n",
       "      <td>103</td>\n",
       "    </tr>\n",
       "    <tr>\n",
       "      <th>19</th>\n",
       "      <td>100</td>\n",
       "      <td>100</td>\n",
       "      <td>100</td>\n",
       "    </tr>\n",
       "    <tr>\n",
       "      <th>20</th>\n",
       "      <td>100</td>\n",
       "      <td>100</td>\n",
       "      <td>100</td>\n",
       "    </tr>\n",
       "    <tr>\n",
       "      <th>21</th>\n",
       "      <td>101</td>\n",
       "      <td>101</td>\n",
       "      <td>101</td>\n",
       "    </tr>\n",
       "    <tr>\n",
       "      <th>22</th>\n",
       "      <td>99</td>\n",
       "      <td>99</td>\n",
       "      <td>99</td>\n",
       "    </tr>\n",
       "    <tr>\n",
       "      <th>23</th>\n",
       "      <td>99</td>\n",
       "      <td>99</td>\n",
       "      <td>99</td>\n",
       "    </tr>\n",
       "  </tbody>\n",
       "</table>\n",
       "</div>"
      ],
      "text/plain": [
       "          Unnamed: 0  file_path  case_num\n",
       "pair_num                                 \n",
       "1                 99         99        99\n",
       "2                100        100       100\n",
       "3                100        100       100\n",
       "4                100        100       100\n",
       "5                100        100       100\n",
       "6                101        101       101\n",
       "7                100        100       100\n",
       "8                102        102       102\n",
       "9                100        100       100\n",
       "10               104        104       104\n",
       "11               101        101       101\n",
       "12               100        100       100\n",
       "13               103        103       103\n",
       "14               100        100       100\n",
       "15               103        103       103\n",
       "16               102        102       102\n",
       "17               100        100       100\n",
       "18               103        103       103\n",
       "19               100        100       100\n",
       "20               100        100       100\n",
       "21               101        101       101\n",
       "22                99         99        99\n",
       "23                99         99        99"
      ]
     },
     "execution_count": 219,
     "metadata": {},
     "output_type": "execute_result"
    }
   ],
   "source": [
    "t"
   ]
  },
  {
   "cell_type": "markdown",
   "metadata": {
    "tags": []
   },
   "source": [
    "### For deployment"
   ]
  },
  {
   "cell_type": "code",
   "execution_count": 95,
   "metadata": {},
   "outputs": [],
   "source": [
    "sample = torch.rand((3,3,224,224)).cuda()"
   ]
  },
  {
   "cell_type": "code",
   "execution_count": 96,
   "metadata": {},
   "outputs": [],
   "source": [
    "out = model.extract(sample)"
   ]
  },
  {
   "cell_type": "code",
   "execution_count": 97,
   "metadata": {},
   "outputs": [],
   "source": [
    "out = out.cpu().detach().numpy().tolist()"
   ]
  },
  {
   "cell_type": "code",
   "execution_count": 98,
   "metadata": {},
   "outputs": [],
   "source": [
    "def get_pred_mod(x, index):\n",
    "    x = np.asarray(x, dtype=np.float32)\n",
    "    x = np.expand_dims(x,0)\n",
    "    print(x.shape)\n",
    "    print(x.dtype)\n",
    "    faiss.normalize_L2(x)\n",
    "    s, s_id = index.search(x,150)\n",
    "    out = [0]*23\n",
    "    c = [mp[i] for i in s_id[0]]\n",
    "    for i in c:\n",
    "        out[i-1]+=1\n",
    "    return out"
   ]
  },
  {
   "cell_type": "code",
   "execution_count": 99,
   "metadata": {},
   "outputs": [
    {
     "name": "stdout",
     "output_type": "stream",
     "text": [
      "(1, 512)\n",
      "float32\n",
      "(1, 512)\n",
      "float32\n",
      "(1, 512)\n",
      "float32\n"
     ]
    }
   ],
   "source": [
    "outs = []\n",
    "for r in out:\n",
    "    outs.append(get_pred_mod(r, index))"
   ]
  },
  {
   "cell_type": "code",
   "execution_count": 100,
   "metadata": {},
   "outputs": [
    {
     "data": {
      "text/plain": [
       "[[68, 79, 0, 0, 0, 1, 0, 0, 0, 0, 0, 0, 0, 0, 0, 0, 1, 0, 0, 0, 0, 0, 1],\n",
       " [68, 79, 0, 0, 0, 1, 0, 0, 0, 0, 0, 0, 0, 0, 0, 0, 1, 0, 0, 0, 0, 0, 1],\n",
       " [68, 79, 0, 0, 0, 1, 0, 0, 0, 0, 0, 0, 0, 0, 0, 0, 1, 0, 0, 0, 0, 0, 1]]"
      ]
     },
     "execution_count": 100,
     "metadata": {},
     "output_type": "execute_result"
    }
   ],
   "source": [
    "outs"
   ]
  },
  {
   "cell_type": "code",
   "execution_count": 108,
   "metadata": {},
   "outputs": [
    {
     "data": {
      "text/plain": [
       "<module 'torch.nn.functional' from '/opt/conda/lib/python3.8/site-packages/torch/nn/functional.py'>"
      ]
     },
     "execution_count": 108,
     "metadata": {},
     "output_type": "execute_result"
    }
   ],
   "source": [
    "F"
   ]
  },
  {
   "cell_type": "code",
   "execution_count": 4,
   "metadata": {},
   "outputs": [
    {
     "data": {
      "text/plain": [
       "<module 'torch.nn.functional' from '/opt/conda/lib/python3.8/site-packages/torch/nn/functional.py'>"
      ]
     },
     "execution_count": 4,
     "metadata": {},
     "output_type": "execute_result"
    }
   ],
   "source": [
    "F"
   ]
  },
  {
   "cell_type": "code",
   "execution_count": 382,
   "metadata": {},
   "outputs": [],
   "source": [
    "n = np.random.rand(224,224,3)\n",
    "x = np.asarray(n, dtype=np.float32)"
   ]
  },
  {
   "cell_type": "code",
   "execution_count": 405,
   "metadata": {},
   "outputs": [],
   "source": [
    "# from PIL import Image\n",
    "# im = Image.fromarray(x)"
   ]
  }
 ],
 "metadata": {
  "kernelspec": {
   "display_name": "Python 3 (ipykernel)",
   "language": "python",
   "name": "python3"
  },
  "language_info": {
   "codemirror_mode": {
    "name": "ipython",
    "version": 3
   },
   "file_extension": ".py",
   "mimetype": "text/x-python",
   "name": "python",
   "nbconvert_exporter": "python",
   "pygments_lexer": "ipython3",
   "version": "3.8.12"
  }
 },
 "nbformat": 4,
 "nbformat_minor": 4
}
